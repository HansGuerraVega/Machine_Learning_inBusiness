{
 "cells": [
  {
   "cell_type": "markdown",
   "metadata": {},
   "source": [
    "# Find the best places to open 200 new oil wells for the company OilyGiant"
   ]
  },
  {
   "cell_type": "markdown",
   "metadata": {},
   "source": [
    "# Content <a id='back'></a>\n",
    "\n",
    "* [Introduction](#intro)\n",
    "* [step 1. Data review.](#data_review)\n",
    "    * [First impressions](#data_review_conclusions)\n",
    "* [Step 2. Data preprocessing](#data_preprocessing)\n",
    "    * [2.1 Duplicate values and fill missing values](#duplicate_values)\n",
    "* [Step 3. Data Analysis](#data_analysis)\n",
    "    * [3.1 Data segmentation and model training.](#train)\n",
    "    * [3.2 Firts results](#first_results)\n",
    "* [Step 4. Profit calculation](#profit)\n",
    "    * [4.1 The variables are prepared for the calculation of profits.](#prepared)\n",
    "    * [4.2 Calculation with the 200 best wells](#with2200)\n",
    "* [Conclusions](#end)"
   ]
  },
  {
   "cell_type": "markdown",
   "metadata": {},
   "source": [
    "# Introduction <a id='intro'></a>\n",
    "\n",
    "Oil drilling company OilyGiant is asking to find the best locations to drill 200 new oil wells.\n",
    "\n",
    "You have data on crude oil samples from three regions. The parameters of each oil well in the region are already known. Create a model that helps choose the region with the highest profit margin. Analyze potential benefits and risks using the bootstrapping technique.\n"
   ]
  },
  {
   "cell_type": "markdown",
   "metadata": {},
   "source": [
    "## Step 1. Data review. <a id='data_review'></a>"
   ]
  },
  {
   "cell_type": "code",
   "execution_count": 4,
   "metadata": {},
   "outputs": [],
   "source": [
    "# All libraries are loaded\n",
    "\n",
    "import pandas as pd\n",
    "import numpy as np\n",
    "from matplotlib import pyplot as plt\n",
    "from sklearn.preprocessing import StandardScaler\n",
    "from sklearn.linear_model import LinearRegression\n",
    "from sklearn.metrics import accuracy_score, f1_score, roc_auc_score\n",
    "from sklearn.model_selection import train_test_split\n",
    "from sklearn.metrics import mean_squared_error\n",
    "from sklearn.utils import shuffle\n",
    "from sklearn.metrics import roc_curve"
   ]
  },
  {
   "cell_type": "markdown",
   "metadata": {},
   "source": [
    "### First impressions <a id='data_review_conclusions'></a>"
   ]
  },
  {
   "cell_type": "code",
   "execution_count": 9,
   "metadata": {},
   "outputs": [],
   "source": [
    "# Import data\n",
    "\n",
    "df_0 = pd.read_csv('geo_data_0.csv')\n",
    "df_1 = pd.read_csv('geo_data_1.csv')\n",
    "df_2 = pd.read_csv('geo_data_2.csv')"
   ]
  },
  {
   "cell_type": "code",
   "execution_count": 11,
   "metadata": {},
   "outputs": [
    {
     "data": {
      "text/html": [
       "<div>\n",
       "<style scoped>\n",
       "    .dataframe tbody tr th:only-of-type {\n",
       "        vertical-align: middle;\n",
       "    }\n",
       "\n",
       "    .dataframe tbody tr th {\n",
       "        vertical-align: top;\n",
       "    }\n",
       "\n",
       "    .dataframe thead th {\n",
       "        text-align: right;\n",
       "    }\n",
       "</style>\n",
       "<table border=\"1\" class=\"dataframe\">\n",
       "  <thead>\n",
       "    <tr style=\"text-align: right;\">\n",
       "      <th></th>\n",
       "      <th>id</th>\n",
       "      <th>f0</th>\n",
       "      <th>f1</th>\n",
       "      <th>f2</th>\n",
       "      <th>product</th>\n",
       "    </tr>\n",
       "  </thead>\n",
       "  <tbody>\n",
       "    <tr>\n",
       "      <th>0</th>\n",
       "      <td>txEyH</td>\n",
       "      <td>0.705745</td>\n",
       "      <td>-0.497823</td>\n",
       "      <td>1.221170</td>\n",
       "      <td>105.280062</td>\n",
       "    </tr>\n",
       "    <tr>\n",
       "      <th>1</th>\n",
       "      <td>2acmU</td>\n",
       "      <td>1.334711</td>\n",
       "      <td>-0.340164</td>\n",
       "      <td>4.365080</td>\n",
       "      <td>73.037750</td>\n",
       "    </tr>\n",
       "    <tr>\n",
       "      <th>2</th>\n",
       "      <td>409Wp</td>\n",
       "      <td>1.022732</td>\n",
       "      <td>0.151990</td>\n",
       "      <td>1.419926</td>\n",
       "      <td>85.265647</td>\n",
       "    </tr>\n",
       "    <tr>\n",
       "      <th>3</th>\n",
       "      <td>iJLyR</td>\n",
       "      <td>-0.032172</td>\n",
       "      <td>0.139033</td>\n",
       "      <td>2.978566</td>\n",
       "      <td>168.620776</td>\n",
       "    </tr>\n",
       "    <tr>\n",
       "      <th>4</th>\n",
       "      <td>Xdl7t</td>\n",
       "      <td>1.988431</td>\n",
       "      <td>0.155413</td>\n",
       "      <td>4.751769</td>\n",
       "      <td>154.036647</td>\n",
       "    </tr>\n",
       "  </tbody>\n",
       "</table>\n",
       "</div>"
      ],
      "text/plain": [
       "      id        f0        f1        f2     product\n",
       "0  txEyH  0.705745 -0.497823  1.221170  105.280062\n",
       "1  2acmU  1.334711 -0.340164  4.365080   73.037750\n",
       "2  409Wp  1.022732  0.151990  1.419926   85.265647\n",
       "3  iJLyR -0.032172  0.139033  2.978566  168.620776\n",
       "4  Xdl7t  1.988431  0.155413  4.751769  154.036647"
      ]
     },
     "metadata": {},
     "output_type": "display_data"
    },
    {
     "name": "stdout",
     "output_type": "stream",
     "text": [
      "<class 'pandas.core.frame.DataFrame'>\n",
      "RangeIndex: 100000 entries, 0 to 99999\n",
      "Data columns (total 5 columns):\n",
      " #   Column   Non-Null Count   Dtype  \n",
      "---  ------   --------------   -----  \n",
      " 0   id       100000 non-null  object \n",
      " 1   f0       100000 non-null  float64\n",
      " 2   f1       100000 non-null  float64\n",
      " 3   f2       100000 non-null  float64\n",
      " 4   product  100000 non-null  float64\n",
      "dtypes: float64(4), object(1)\n",
      "memory usage: 3.8+ MB\n",
      "id         0\n",
      "f0         0\n",
      "f1         0\n",
      "f2         0\n",
      "product    0\n",
      "dtype: int64\n"
     ]
    },
    {
     "data": {
      "text/html": [
       "<div>\n",
       "<style scoped>\n",
       "    .dataframe tbody tr th:only-of-type {\n",
       "        vertical-align: middle;\n",
       "    }\n",
       "\n",
       "    .dataframe tbody tr th {\n",
       "        vertical-align: top;\n",
       "    }\n",
       "\n",
       "    .dataframe thead th {\n",
       "        text-align: right;\n",
       "    }\n",
       "</style>\n",
       "<table border=\"1\" class=\"dataframe\">\n",
       "  <thead>\n",
       "    <tr style=\"text-align: right;\">\n",
       "      <th></th>\n",
       "      <th>f0</th>\n",
       "      <th>f1</th>\n",
       "      <th>f2</th>\n",
       "      <th>product</th>\n",
       "    </tr>\n",
       "  </thead>\n",
       "  <tbody>\n",
       "    <tr>\n",
       "      <th>count</th>\n",
       "      <td>100000.000000</td>\n",
       "      <td>100000.000000</td>\n",
       "      <td>100000.000000</td>\n",
       "      <td>100000.000000</td>\n",
       "    </tr>\n",
       "    <tr>\n",
       "      <th>mean</th>\n",
       "      <td>0.500419</td>\n",
       "      <td>0.250143</td>\n",
       "      <td>2.502647</td>\n",
       "      <td>92.500000</td>\n",
       "    </tr>\n",
       "    <tr>\n",
       "      <th>std</th>\n",
       "      <td>0.871832</td>\n",
       "      <td>0.504433</td>\n",
       "      <td>3.248248</td>\n",
       "      <td>44.288691</td>\n",
       "    </tr>\n",
       "    <tr>\n",
       "      <th>min</th>\n",
       "      <td>-1.408605</td>\n",
       "      <td>-0.848218</td>\n",
       "      <td>-12.088328</td>\n",
       "      <td>0.000000</td>\n",
       "    </tr>\n",
       "    <tr>\n",
       "      <th>25%</th>\n",
       "      <td>-0.072580</td>\n",
       "      <td>-0.200881</td>\n",
       "      <td>0.287748</td>\n",
       "      <td>56.497507</td>\n",
       "    </tr>\n",
       "    <tr>\n",
       "      <th>50%</th>\n",
       "      <td>0.502360</td>\n",
       "      <td>0.250252</td>\n",
       "      <td>2.515969</td>\n",
       "      <td>91.849972</td>\n",
       "    </tr>\n",
       "    <tr>\n",
       "      <th>75%</th>\n",
       "      <td>1.073581</td>\n",
       "      <td>0.700646</td>\n",
       "      <td>4.715088</td>\n",
       "      <td>128.564089</td>\n",
       "    </tr>\n",
       "    <tr>\n",
       "      <th>max</th>\n",
       "      <td>2.362331</td>\n",
       "      <td>1.343769</td>\n",
       "      <td>16.003790</td>\n",
       "      <td>185.364347</td>\n",
       "    </tr>\n",
       "  </tbody>\n",
       "</table>\n",
       "</div>"
      ],
      "text/plain": [
       "                  f0             f1             f2        product\n",
       "count  100000.000000  100000.000000  100000.000000  100000.000000\n",
       "mean        0.500419       0.250143       2.502647      92.500000\n",
       "std         0.871832       0.504433       3.248248      44.288691\n",
       "min        -1.408605      -0.848218     -12.088328       0.000000\n",
       "25%        -0.072580      -0.200881       0.287748      56.497507\n",
       "50%         0.502360       0.250252       2.515969      91.849972\n",
       "75%         1.073581       0.700646       4.715088     128.564089\n",
       "max         2.362331       1.343769      16.003790     185.364347"
      ]
     },
     "execution_count": 11,
     "metadata": {},
     "output_type": "execute_result"
    }
   ],
   "source": [
    "# The data frame (df_0) information and a sample of the data are printed\n",
    "\n",
    "display(df_0.head())\n",
    "df_0.info()\n",
    "print(df_0.isnull().sum())\n",
    "df_0.describe()"
   ]
  },
  {
   "cell_type": "code",
   "execution_count": 13,
   "metadata": {},
   "outputs": [
    {
     "data": {
      "text/html": [
       "<div>\n",
       "<style scoped>\n",
       "    .dataframe tbody tr th:only-of-type {\n",
       "        vertical-align: middle;\n",
       "    }\n",
       "\n",
       "    .dataframe tbody tr th {\n",
       "        vertical-align: top;\n",
       "    }\n",
       "\n",
       "    .dataframe thead th {\n",
       "        text-align: right;\n",
       "    }\n",
       "</style>\n",
       "<table border=\"1\" class=\"dataframe\">\n",
       "  <thead>\n",
       "    <tr style=\"text-align: right;\">\n",
       "      <th></th>\n",
       "      <th>id</th>\n",
       "      <th>f0</th>\n",
       "      <th>f1</th>\n",
       "      <th>f2</th>\n",
       "      <th>product</th>\n",
       "    </tr>\n",
       "  </thead>\n",
       "  <tbody>\n",
       "    <tr>\n",
       "      <th>0</th>\n",
       "      <td>kBEdx</td>\n",
       "      <td>-15.001348</td>\n",
       "      <td>-8.276000</td>\n",
       "      <td>-0.005876</td>\n",
       "      <td>3.179103</td>\n",
       "    </tr>\n",
       "    <tr>\n",
       "      <th>1</th>\n",
       "      <td>62mP7</td>\n",
       "      <td>14.272088</td>\n",
       "      <td>-3.475083</td>\n",
       "      <td>0.999183</td>\n",
       "      <td>26.953261</td>\n",
       "    </tr>\n",
       "    <tr>\n",
       "      <th>2</th>\n",
       "      <td>vyE1P</td>\n",
       "      <td>6.263187</td>\n",
       "      <td>-5.948386</td>\n",
       "      <td>5.001160</td>\n",
       "      <td>134.766305</td>\n",
       "    </tr>\n",
       "    <tr>\n",
       "      <th>3</th>\n",
       "      <td>KcrkZ</td>\n",
       "      <td>-13.081196</td>\n",
       "      <td>-11.506057</td>\n",
       "      <td>4.999415</td>\n",
       "      <td>137.945408</td>\n",
       "    </tr>\n",
       "    <tr>\n",
       "      <th>4</th>\n",
       "      <td>AHL4O</td>\n",
       "      <td>12.702195</td>\n",
       "      <td>-8.147433</td>\n",
       "      <td>5.004363</td>\n",
       "      <td>134.766305</td>\n",
       "    </tr>\n",
       "  </tbody>\n",
       "</table>\n",
       "</div>"
      ],
      "text/plain": [
       "      id         f0         f1        f2     product\n",
       "0  kBEdx -15.001348  -8.276000 -0.005876    3.179103\n",
       "1  62mP7  14.272088  -3.475083  0.999183   26.953261\n",
       "2  vyE1P   6.263187  -5.948386  5.001160  134.766305\n",
       "3  KcrkZ -13.081196 -11.506057  4.999415  137.945408\n",
       "4  AHL4O  12.702195  -8.147433  5.004363  134.766305"
      ]
     },
     "metadata": {},
     "output_type": "display_data"
    },
    {
     "name": "stdout",
     "output_type": "stream",
     "text": [
      "<class 'pandas.core.frame.DataFrame'>\n",
      "RangeIndex: 100000 entries, 0 to 99999\n",
      "Data columns (total 5 columns):\n",
      " #   Column   Non-Null Count   Dtype  \n",
      "---  ------   --------------   -----  \n",
      " 0   id       100000 non-null  object \n",
      " 1   f0       100000 non-null  float64\n",
      " 2   f1       100000 non-null  float64\n",
      " 3   f2       100000 non-null  float64\n",
      " 4   product  100000 non-null  float64\n",
      "dtypes: float64(4), object(1)\n",
      "memory usage: 3.8+ MB\n",
      "id         0\n",
      "f0         0\n",
      "f1         0\n",
      "f2         0\n",
      "product    0\n",
      "dtype: int64\n"
     ]
    },
    {
     "data": {
      "text/html": [
       "<div>\n",
       "<style scoped>\n",
       "    .dataframe tbody tr th:only-of-type {\n",
       "        vertical-align: middle;\n",
       "    }\n",
       "\n",
       "    .dataframe tbody tr th {\n",
       "        vertical-align: top;\n",
       "    }\n",
       "\n",
       "    .dataframe thead th {\n",
       "        text-align: right;\n",
       "    }\n",
       "</style>\n",
       "<table border=\"1\" class=\"dataframe\">\n",
       "  <thead>\n",
       "    <tr style=\"text-align: right;\">\n",
       "      <th></th>\n",
       "      <th>f0</th>\n",
       "      <th>f1</th>\n",
       "      <th>f2</th>\n",
       "      <th>product</th>\n",
       "    </tr>\n",
       "  </thead>\n",
       "  <tbody>\n",
       "    <tr>\n",
       "      <th>count</th>\n",
       "      <td>100000.000000</td>\n",
       "      <td>100000.000000</td>\n",
       "      <td>100000.000000</td>\n",
       "      <td>100000.000000</td>\n",
       "    </tr>\n",
       "    <tr>\n",
       "      <th>mean</th>\n",
       "      <td>1.141296</td>\n",
       "      <td>-4.796579</td>\n",
       "      <td>2.494541</td>\n",
       "      <td>68.825000</td>\n",
       "    </tr>\n",
       "    <tr>\n",
       "      <th>std</th>\n",
       "      <td>8.965932</td>\n",
       "      <td>5.119872</td>\n",
       "      <td>1.703572</td>\n",
       "      <td>45.944423</td>\n",
       "    </tr>\n",
       "    <tr>\n",
       "      <th>min</th>\n",
       "      <td>-31.609576</td>\n",
       "      <td>-26.358598</td>\n",
       "      <td>-0.018144</td>\n",
       "      <td>0.000000</td>\n",
       "    </tr>\n",
       "    <tr>\n",
       "      <th>25%</th>\n",
       "      <td>-6.298551</td>\n",
       "      <td>-8.267985</td>\n",
       "      <td>1.000021</td>\n",
       "      <td>26.953261</td>\n",
       "    </tr>\n",
       "    <tr>\n",
       "      <th>50%</th>\n",
       "      <td>1.153055</td>\n",
       "      <td>-4.813172</td>\n",
       "      <td>2.011479</td>\n",
       "      <td>57.085625</td>\n",
       "    </tr>\n",
       "    <tr>\n",
       "      <th>75%</th>\n",
       "      <td>8.621015</td>\n",
       "      <td>-1.332816</td>\n",
       "      <td>3.999904</td>\n",
       "      <td>107.813044</td>\n",
       "    </tr>\n",
       "    <tr>\n",
       "      <th>max</th>\n",
       "      <td>29.421755</td>\n",
       "      <td>18.734063</td>\n",
       "      <td>5.019721</td>\n",
       "      <td>137.945408</td>\n",
       "    </tr>\n",
       "  </tbody>\n",
       "</table>\n",
       "</div>"
      ],
      "text/plain": [
       "                  f0             f1             f2        product\n",
       "count  100000.000000  100000.000000  100000.000000  100000.000000\n",
       "mean        1.141296      -4.796579       2.494541      68.825000\n",
       "std         8.965932       5.119872       1.703572      45.944423\n",
       "min       -31.609576     -26.358598      -0.018144       0.000000\n",
       "25%        -6.298551      -8.267985       1.000021      26.953261\n",
       "50%         1.153055      -4.813172       2.011479      57.085625\n",
       "75%         8.621015      -1.332816       3.999904     107.813044\n",
       "max        29.421755      18.734063       5.019721     137.945408"
      ]
     },
     "execution_count": 13,
     "metadata": {},
     "output_type": "execute_result"
    }
   ],
   "source": [
    "# The data frame (df_1) information and a sample of the data are printed\n",
    "\n",
    "display(df_1.head())\n",
    "df_1.info()\n",
    "print(df_1.isnull().sum())\n",
    "df_1.describe()"
   ]
  },
  {
   "cell_type": "code",
   "execution_count": 15,
   "metadata": {},
   "outputs": [
    {
     "data": {
      "text/html": [
       "<div>\n",
       "<style scoped>\n",
       "    .dataframe tbody tr th:only-of-type {\n",
       "        vertical-align: middle;\n",
       "    }\n",
       "\n",
       "    .dataframe tbody tr th {\n",
       "        vertical-align: top;\n",
       "    }\n",
       "\n",
       "    .dataframe thead th {\n",
       "        text-align: right;\n",
       "    }\n",
       "</style>\n",
       "<table border=\"1\" class=\"dataframe\">\n",
       "  <thead>\n",
       "    <tr style=\"text-align: right;\">\n",
       "      <th></th>\n",
       "      <th>id</th>\n",
       "      <th>f0</th>\n",
       "      <th>f1</th>\n",
       "      <th>f2</th>\n",
       "      <th>product</th>\n",
       "    </tr>\n",
       "  </thead>\n",
       "  <tbody>\n",
       "    <tr>\n",
       "      <th>0</th>\n",
       "      <td>fwXo0</td>\n",
       "      <td>-1.146987</td>\n",
       "      <td>0.963328</td>\n",
       "      <td>-0.828965</td>\n",
       "      <td>27.758673</td>\n",
       "    </tr>\n",
       "    <tr>\n",
       "      <th>1</th>\n",
       "      <td>WJtFt</td>\n",
       "      <td>0.262778</td>\n",
       "      <td>0.269839</td>\n",
       "      <td>-2.530187</td>\n",
       "      <td>56.069697</td>\n",
       "    </tr>\n",
       "    <tr>\n",
       "      <th>2</th>\n",
       "      <td>ovLUW</td>\n",
       "      <td>0.194587</td>\n",
       "      <td>0.289035</td>\n",
       "      <td>-5.586433</td>\n",
       "      <td>62.871910</td>\n",
       "    </tr>\n",
       "    <tr>\n",
       "      <th>3</th>\n",
       "      <td>q6cA6</td>\n",
       "      <td>2.236060</td>\n",
       "      <td>-0.553760</td>\n",
       "      <td>0.930038</td>\n",
       "      <td>114.572842</td>\n",
       "    </tr>\n",
       "    <tr>\n",
       "      <th>4</th>\n",
       "      <td>WPMUX</td>\n",
       "      <td>-0.515993</td>\n",
       "      <td>1.716266</td>\n",
       "      <td>5.899011</td>\n",
       "      <td>149.600746</td>\n",
       "    </tr>\n",
       "  </tbody>\n",
       "</table>\n",
       "</div>"
      ],
      "text/plain": [
       "      id        f0        f1        f2     product\n",
       "0  fwXo0 -1.146987  0.963328 -0.828965   27.758673\n",
       "1  WJtFt  0.262778  0.269839 -2.530187   56.069697\n",
       "2  ovLUW  0.194587  0.289035 -5.586433   62.871910\n",
       "3  q6cA6  2.236060 -0.553760  0.930038  114.572842\n",
       "4  WPMUX -0.515993  1.716266  5.899011  149.600746"
      ]
     },
     "metadata": {},
     "output_type": "display_data"
    },
    {
     "name": "stdout",
     "output_type": "stream",
     "text": [
      "<class 'pandas.core.frame.DataFrame'>\n",
      "RangeIndex: 100000 entries, 0 to 99999\n",
      "Data columns (total 5 columns):\n",
      " #   Column   Non-Null Count   Dtype  \n",
      "---  ------   --------------   -----  \n",
      " 0   id       100000 non-null  object \n",
      " 1   f0       100000 non-null  float64\n",
      " 2   f1       100000 non-null  float64\n",
      " 3   f2       100000 non-null  float64\n",
      " 4   product  100000 non-null  float64\n",
      "dtypes: float64(4), object(1)\n",
      "memory usage: 3.8+ MB\n",
      "id         0\n",
      "f0         0\n",
      "f1         0\n",
      "f2         0\n",
      "product    0\n",
      "dtype: int64\n"
     ]
    },
    {
     "data": {
      "text/html": [
       "<div>\n",
       "<style scoped>\n",
       "    .dataframe tbody tr th:only-of-type {\n",
       "        vertical-align: middle;\n",
       "    }\n",
       "\n",
       "    .dataframe tbody tr th {\n",
       "        vertical-align: top;\n",
       "    }\n",
       "\n",
       "    .dataframe thead th {\n",
       "        text-align: right;\n",
       "    }\n",
       "</style>\n",
       "<table border=\"1\" class=\"dataframe\">\n",
       "  <thead>\n",
       "    <tr style=\"text-align: right;\">\n",
       "      <th></th>\n",
       "      <th>f0</th>\n",
       "      <th>f1</th>\n",
       "      <th>f2</th>\n",
       "      <th>product</th>\n",
       "    </tr>\n",
       "  </thead>\n",
       "  <tbody>\n",
       "    <tr>\n",
       "      <th>count</th>\n",
       "      <td>100000.000000</td>\n",
       "      <td>100000.000000</td>\n",
       "      <td>100000.000000</td>\n",
       "      <td>100000.000000</td>\n",
       "    </tr>\n",
       "    <tr>\n",
       "      <th>mean</th>\n",
       "      <td>0.002023</td>\n",
       "      <td>-0.002081</td>\n",
       "      <td>2.495128</td>\n",
       "      <td>95.000000</td>\n",
       "    </tr>\n",
       "    <tr>\n",
       "      <th>std</th>\n",
       "      <td>1.732045</td>\n",
       "      <td>1.730417</td>\n",
       "      <td>3.473445</td>\n",
       "      <td>44.749921</td>\n",
       "    </tr>\n",
       "    <tr>\n",
       "      <th>min</th>\n",
       "      <td>-8.760004</td>\n",
       "      <td>-7.084020</td>\n",
       "      <td>-11.970335</td>\n",
       "      <td>0.000000</td>\n",
       "    </tr>\n",
       "    <tr>\n",
       "      <th>25%</th>\n",
       "      <td>-1.162288</td>\n",
       "      <td>-1.174820</td>\n",
       "      <td>0.130359</td>\n",
       "      <td>59.450441</td>\n",
       "    </tr>\n",
       "    <tr>\n",
       "      <th>50%</th>\n",
       "      <td>0.009424</td>\n",
       "      <td>-0.009482</td>\n",
       "      <td>2.484236</td>\n",
       "      <td>94.925613</td>\n",
       "    </tr>\n",
       "    <tr>\n",
       "      <th>75%</th>\n",
       "      <td>1.158535</td>\n",
       "      <td>1.163678</td>\n",
       "      <td>4.858794</td>\n",
       "      <td>130.595027</td>\n",
       "    </tr>\n",
       "    <tr>\n",
       "      <th>max</th>\n",
       "      <td>7.238262</td>\n",
       "      <td>7.844801</td>\n",
       "      <td>16.739402</td>\n",
       "      <td>190.029838</td>\n",
       "    </tr>\n",
       "  </tbody>\n",
       "</table>\n",
       "</div>"
      ],
      "text/plain": [
       "                  f0             f1             f2        product\n",
       "count  100000.000000  100000.000000  100000.000000  100000.000000\n",
       "mean        0.002023      -0.002081       2.495128      95.000000\n",
       "std         1.732045       1.730417       3.473445      44.749921\n",
       "min        -8.760004      -7.084020     -11.970335       0.000000\n",
       "25%        -1.162288      -1.174820       0.130359      59.450441\n",
       "50%         0.009424      -0.009482       2.484236      94.925613\n",
       "75%         1.158535       1.163678       4.858794     130.595027\n",
       "max         7.238262       7.844801      16.739402     190.029838"
      ]
     },
     "execution_count": 15,
     "metadata": {},
     "output_type": "execute_result"
    }
   ],
   "source": [
    "# The data frame (df_2) information and a sample of the data are printed\n",
    "\n",
    "display(df_2.head())\n",
    "df_2.info()\n",
    "print(df_2.isnull().sum())\n",
    "df_2.describe()"
   ]
  },
  {
   "cell_type": "markdown",
   "metadata": {},
   "source": [
    "**Observations**\n",
    "1. There is no missing data in the data sets.\n",
    "2. The data type is correct for the data set.\n",
    "3. It seems everything is correct and it is posible to continue with the other steps.\n",
    "4. The values returned by the describe() method are consistent"
   ]
  },
  {
   "cell_type": "markdown",
   "metadata": {},
   "source": [
    "## Step 2. Data preprocessing <a id='data_preprocessing'></a>"
   ]
  },
  {
   "cell_type": "markdown",
   "metadata": {},
   "source": [
    "### Duplicate values <a id='duplicate_values'></a>"
   ]
  },
  {
   "cell_type": "code",
   "execution_count": 20,
   "metadata": {},
   "outputs": [
    {
     "name": "stdout",
     "output_type": "stream",
     "text": [
      "Duplicated values in df_0:\n",
      "Empty DataFrame\n",
      "Columns: [id, f0, f1, f2, product]\n",
      "Index: []\n",
      "\n",
      "Duplicated values in df_1:\n",
      "Empty DataFrame\n",
      "Columns: [id, f0, f1, f2, product]\n",
      "Index: []\n",
      "\n",
      "Duplicated values in df_2:\n",
      "Empty DataFrame\n",
      "Columns: [id, f0, f1, f2, product]\n",
      "Index: []\n"
     ]
    }
   ],
   "source": [
    "# Verify duplicated data\n",
    "\n",
    "print('Duplicated values in df_0:')\n",
    "print(df_0[df_0.duplicated()])\n",
    "print(\"\")\n",
    "print('Duplicated values in df_1:')\n",
    "print(df_1[df_1.duplicated()])\n",
    "print(\"\")\n",
    "print('Duplicated values in df_2:')\n",
    "print(df_2[df_2.duplicated()])"
   ]
  },
  {
   "cell_type": "markdown",
   "metadata": {},
   "source": [
    "**Observations**\n",
    "\n",
    "There are no duplicate values in any \"df\", the consistency of the data was ensured so we can continue with the next steps."
   ]
  },
  {
   "cell_type": "markdown",
   "metadata": {},
   "source": [
    "## Step 3. Data Analysis <a id='data_analysis'></a>"
   ]
  },
  {
   "cell_type": "markdown",
   "metadata": {},
   "source": [
    "### Data segmentation and model training. <a id='train'></a>"
   ]
  },
  {
   "cell_type": "code",
   "execution_count": 25,
   "metadata": {},
   "outputs": [],
   "source": [
    "def train_test(df,scale):\n",
    "        \n",
    "    # Tranform object variables to categorical variables avoinding the dummy problem\n",
    "    features = df.drop(['id', 'product'], axis=1)\n",
    "    target = df['product']\n",
    "    \n",
    "    # Split the dataset in train, validation and test set (75% train, 25% validation)\n",
    "    X_train, X_valid, y_train, y_valid = train_test_split(features, target, test_size=0.25, random_state=12345)\n",
    "    \n",
    "    if scale == 1:\n",
    "        sc = StandardScaler()\n",
    "        X_train = sc.fit_transform(X_train)\n",
    "        X_valid = sc.fit_transform(X_valid)\n",
    "\n",
    "    # Train a LinearRegression model and make predictions\n",
    "    model = LinearRegression()\n",
    "    model.fit(X_train, y_train)\n",
    "    \n",
    "    # Evaluate on validation set\n",
    "    y_pred = model.predict(X_valid)\n",
    "    \n",
    "    # Predicted average reserve volume and RMSE of the model\n",
    "    \n",
    "    y_predict_mean = y_pred.mean()\n",
    "    rmse = np.sqrt(mean_squared_error(y_valid, y_pred))\n",
    "    \n",
    "    print(f\"Predicted average volume: {y_predict_mean}\")\n",
    "    print(f\"RMSE: {rmse}\")\n",
    "    \n",
    "    return y_valid, y_pred\n",
    "    "
   ]
  },
  {
   "cell_type": "markdown",
   "metadata": {},
   "source": [
    "### Firts results. <a id='first_results'></a>"
   ]
  },
  {
   "cell_type": "code",
   "execution_count": 28,
   "metadata": {},
   "outputs": [
    {
     "name": "stdout",
     "output_type": "stream",
     "text": [
      "Region 0\n",
      "Predicted average volume: 92.64046775305692\n",
      "RMSE: 37.58010943632562\n"
     ]
    }
   ],
   "source": [
    "# Calculation of the model for df_0\n",
    "\n",
    "print('Region 0')\n",
    "y_valid_df_0, y_pred_df_0 = train_test(df_0, 1)"
   ]
  },
  {
   "cell_type": "code",
   "execution_count": 30,
   "metadata": {},
   "outputs": [
    {
     "name": "stdout",
     "output_type": "stream",
     "text": [
      "Region 1\n",
      "Predicted average volume: 68.85895465854666\n",
      "RMSE: 0.9101647093055368\n"
     ]
    }
   ],
   "source": [
    "# Calculation of the model for df_1\n",
    "\n",
    "print('Region 1')\n",
    "y_valid_df_1, y_pred_df_1 = train_test(df_1, 1)"
   ]
  },
  {
   "cell_type": "code",
   "execution_count": 32,
   "metadata": {},
   "outputs": [
    {
     "name": "stdout",
     "output_type": "stream",
     "text": [
      "Region 2\n",
      "Predicted average volume: 95.03858906371522\n",
      "RMSE: 40.0303627970992\n"
     ]
    }
   ],
   "source": [
    "# Calculation of the model for df_2\n",
    "\n",
    "print('Region 2')\n",
    "# Correction\n",
    "y_valid_df_2, y_pred_df_2 = train_test(df_2, 1)"
   ]
  },
  {
   "cell_type": "markdown",
   "metadata": {},
   "source": [
    "**Observations**\n",
    "\n",
    "1. The model was trained with linear regression due the necessity of a simple regression, depending on the data a robust regression could be applied.\n",
    "2. Added the option to choose whether or not to standardize the data and observe the differences in the values calculated later using the predictions\n",
    "3. It seems that standardizing data generates better metrics.\n",
    "4. Region 0 and 2 are those that present the best values of average reserves and the lowest RMSE error is obtained in region 1, one reason is that there is more dispersion in the predictions for regions 0 and 2\n",
    "5. A deeper analysis must be done to know which region is the best, it seems that region 0 and 2 give equal results."
   ]
  },
  {
   "cell_type": "markdown",
   "metadata": {},
   "source": [
    "## Step 4. Profit calculation. <a id='profit'></a>\n"
   ]
  },
  {
   "cell_type": "markdown",
   "metadata": {},
   "source": [
    "### The variables are prepared for the calculation of profits. <a id='prepared'></a>\n"
   ]
  },
  {
   "cell_type": "code",
   "execution_count": 37,
   "metadata": {},
   "outputs": [
    {
     "name": "stdout",
     "output_type": "stream",
     "text": [
      "4500.450045004501\n"
     ]
    }
   ],
   "source": [
    "# Set the principal variables \n",
    "\n",
    "budget = 100e6\n",
    "n_wells = 200\n",
    "cost_per_well = budget/n_wells\n",
    "min_units = 111.1\n",
    "cost_per_barrel = 500000/min_units\n",
    "print(cost_per_barrel)"
   ]
  },
  {
   "cell_type": "code",
   "execution_count": 39,
   "metadata": {},
   "outputs": [
    {
     "name": "stdout",
     "output_type": "stream",
     "text": [
      "Cantidad mínima requerida por pozo para evitar pérdidas: 111.10 mil barriles\n",
      "Cantidad media de reservas predicha en la Región 0: 92.64 mil barriles\n",
      "Cantidad media de reservas predicha en la Región 1: 68.86 mil barriles\n",
      "Cantidad media de reservas predicha en la Región 2: 95.04 mil barriles\n",
      "La Región 0 no es rentable en promedio.\n",
      "La Región 1 no es rentable en promedio.\n",
      "La Región 2 no es rentable en promedio.\n"
     ]
    }
   ],
   "source": [
    "# Calculate the average amount of reservations predicted for each region\n",
    "\n",
    "mean_reserves_0 = y_pred_df_0.mean()\n",
    "mean_reserves_1 = y_pred_df_1.mean()\n",
    "mean_reserves_2 = y_pred_df_2.mean()\n",
    "\n",
    "# Compare quantities with the minimum threshold of 111.1 units\n",
    "\n",
    "print(f\"Cantidad mínima requerida por pozo para evitar pérdidas: {min_units:.2f} mil barriles\")\n",
    "print(f\"Cantidad media de reservas predicha en la Región 0: {mean_reserves_0:.2f} mil barriles\")\n",
    "print(f\"Cantidad media de reservas predicha en la Región 1: {mean_reserves_1:.2f} mil barriles\")\n",
    "print(f\"Cantidad media de reservas predicha en la Región 2: {mean_reserves_2:.2f} mil barriles\")\n",
    "\n",
    "# Preliminary conclusions\n",
    "if mean_reserves_0 > min_units:\n",
    "    print(\"La Región 0 es rentable en promedio.\")\n",
    "else:\n",
    "    print(\"La Región 0 no es rentable en promedio.\")\n",
    "\n",
    "if mean_reserves_1 > min_units:\n",
    "    print(\"La Región 1 es rentable en promedio.\")\n",
    "else:\n",
    "    print(\"La Región 1 no es rentable en promedio.\")\n",
    "\n",
    "if mean_reserves_2 > min_units:\n",
    "    print(\"La Región 2 es rentable en promedio.\")\n",
    "else:\n",
    "    print(\"La Región 2 no es rentable en promedio.\")"
   ]
  },
  {
   "cell_type": "markdown",
   "metadata": {},
   "source": [
    "**Observations**\n",
    "\n",
    "1. It appears that no region is profitable on average; however, regions 0 and 2 are the ones that are closest to the minimum value\n",
    "2. To calculate the profit, a function will be generated that uses the predictions, the number of barrels, the cost per barrel and the budget. To obtain the profit it is necessary to calculate the total volume and multiply it by the budget, so we can know if, on average, the regions meet the sales of 500,000"
   ]
  },
  {
   "cell_type": "markdown",
   "metadata": {},
   "source": [
    "### Calculation with the 200 best wells. <a id='with200'></a>\n"
   ]
  },
  {
   "cell_type": "code",
   "execution_count": 43,
   "metadata": {},
   "outputs": [],
   "source": [
    "# Function to calculate the profit of a set of selected oil wells\n",
    "\n",
    "def profits(predict, num_wells, cost_per_barrel, budget):\n",
    "    best_wells = predict.sort_values(ascending=False).head(200)\n",
    "    \n",
    "    # Calculate total volume and profits\n",
    "    total_volume = best_wells.sum()\n",
    "    revenue = total_volume * cost_per_barrel\n",
    "    \n",
    "    # Calculate profit\n",
    "    profit = revenue - budget\n",
    "    \n",
    "    return best_wells, profit"
   ]
  },
  {
   "cell_type": "code",
   "execution_count": 45,
   "metadata": {},
   "outputs": [
    {
     "name": "stdout",
     "output_type": "stream",
     "text": [
      "Expected profit for Region 0: $40093035.59\n",
      "Expected profit for Region 1: $24844320.83\n",
      "Expected profit for Region 2: $33215034.60\n",
      "Region 0 has the highest potential benefit and is recommended for well development.\n"
     ]
    }
   ],
   "source": [
    "# Calculate expected profits from the top 200 wells by region\n",
    "\n",
    "best_wells_df_0, profit_df_0 = profits(pd.Series(y_pred_df_0), n_wells, cost_per_barrel, budget)\n",
    "best_wells_df_1, profit_df_1 = profits(pd.Series(y_pred_df_1), n_wells, cost_per_barrel, budget)\n",
    "best_wells_df_2, profit_df_2 = profits(pd.Series(y_pred_df_2), n_wells, cost_per_barrel, budget)\n",
    "\n",
    "print(f\"Expected profit for Region 0: ${profit_df_0:.2f}\")\n",
    "print(f\"Expected profit for Region 1: ${profit_df_1:.2f}\")\n",
    "print(f\"Expected profit for Region 2: ${profit_df_2:.2f}\")\n",
    "\n",
    "# Determine the most profitable region\n",
    "\n",
    "if (profit_df_0 > profit_df_1 and profit_df_0 != profit_df_1) and (profit_df_0 > profit_df_2 and profit_df_0 != profit_df_2):\n",
    "    print(\"Region 0 has the highest potential benefit and is recommended for well development.\")\n",
    "elif (profit_df_1 > profit_df_0 and profit_df_1 != profit_df_0) and (profit_df_1 > profit_df_2 and profit_df_1 != profit_df_2):\n",
    "    print(\"Region 1 has the highest potential benefit and is recommended for well development.\")\n",
    "elif (profit_df_2 > profit_df_0 and profit_df_2 != profit_df_0) and (profit_df_2 > profit_df_1 and profit_df_2 != profit_df_1):\n",
    "    print(\"Region 2 has the highest potential benefit and is recommended for well development.\")\n",
    "elif profit_df_0 == profit_df_1 and profit_df_0 > profit_df_2: \n",
    "    print(\"Region 0 and Region 1 have the greatest potential benefit and are recommended for well development.\")\n",
    "elif profit_df_0 == profit_df_2 and profit_df_0 > profit_df_1:\n",
    "    print(\"Region 0 and Region 2 have the greatest potential benefit and are recommended for well development.\")\n",
    "else:\n",
    "    print(\"Region 1 and Region 2 have the greatest potential benefit and are recommended for well development.\")"
   ]
  },
  {
   "cell_type": "markdown",
   "metadata": {},
   "source": [
    "**Observations**\n",
    "\n",
    "1. Regions 0 has the best profits with equal values for the top 200 wells\n",
    "2. Region 1 seems less profitable"
   ]
  },
  {
   "cell_type": "markdown",
   "metadata": {},
   "source": [
    "## Conclusion. <a id='end'></a>\n"
   ]
  },
  {
   "cell_type": "code",
   "execution_count": 49,
   "metadata": {},
   "outputs": [],
   "source": [
    "# Function to calculate risk and profit using bootstrapping\n",
    "\n",
    "state = np.random.RandomState(12345)\n",
    "def bootstrap_profit(predictions, n_bootstrap=1000):\n",
    "    state = np.random.RandomState(12345)\n",
    "    values = []\n",
    "    \n",
    "    for _ in range(n_bootstrap):\n",
    "        # Perform a random sample with replacement\n",
    "        subsample = predictions.sample(n=n_wells, replace=True, random_state=state)\n",
    "        \n",
    "        # Calculate the total volume and profit for the sample\n",
    "        total_volume = subsample.sum()\n",
    "        revenue = total_volume * cost_per_barrel\n",
    "        profit = revenue - budget\n",
    "        values.append(profit)\n",
    "    \n",
    "    \n",
    "    values = pd.Series(values)\n",
    "    \n",
    "    mean_profit = values.mean()\n",
    "    lower = values.quantile(0.025)\n",
    "    upper = values.quantile(0.975)\n",
    "    \n",
    "    # Calculate risk of loss\n",
    "    risk_of_loss = (values < 0).mean()\n",
    "    \n",
    "    return mean_profit, lower, upper, risk_of_loss\n"
   ]
  },
  {
   "cell_type": "code",
   "execution_count": 51,
   "metadata": {},
   "outputs": [
    {
     "name": "stdout",
     "output_type": "stream",
     "text": [
      "\n",
      "Region 0:\n",
      "Average profit: $40076584.29, Confidence interval: [39236694.32, 40926426.03]\n",
      "Risk of loss: 0.00%\n",
      "\n",
      "Region 1:\n",
      "Average profit: $24843542.27, Confidence interval: [24805695.06, 24882088.69]\n",
      "Risk of loss: 0.00%\n",
      "\n",
      "Region 2:\n",
      "Average profit: $33200950.68, Confidence interval: [32502433.66, 33933484.08]\n",
      "Risk of loss: 0.00%\n"
     ]
    }
   ],
   "source": [
    "# Apply bootstrapping for each region\n",
    "\n",
    "print(\"\\nRegion 0:\")\n",
    "mean_profit_df_0, lower_df_0, upper_df_0, risk_df_0 = bootstrap_profit(pd.Series(best_wells_df_0))\n",
    "print(f\"Average profit: ${mean_profit_df_0:.2f}, Confidence interval: [{lower_df_0:.2f}, {upper_df_0:.2f}]\")\n",
    "print(f\"Risk of loss: {risk_df_0 * 100:.2f}%\")\n",
    "\n",
    "print(\"\\nRegion 1:\")\n",
    "mean_profit_df_1, lower_df_1, upper_df_1, risk_df_1 = bootstrap_profit(pd.Series(best_wells_df_1))\n",
    "print(f\"Average profit: ${mean_profit_df_1:.2f}, Confidence interval: [{lower_df_1:.2f}, {upper_df_1:.2f}]\")\n",
    "print(f\"Risk of loss: {risk_df_1 * 100:.2f}%\")\n",
    "\n",
    "print(\"\\nRegion 2:\")\n",
    "mean_profit_df_2, lower_df_2, upper_df_2, risk_df_2 = bootstrap_profit(pd.Series(best_wells_df_2))\n",
    "print(f\"Average profit: ${mean_profit_df_2:.2f}, Confidence interval: [{lower_df_2:.2f}, {upper_df_2:.2f}]\")\n",
    "print(f\"Risk of loss: {risk_df_2 * 100:.2f}%\")"
   ]
  },
  {
   "cell_type": "code",
   "execution_count": 53,
   "metadata": {},
   "outputs": [
    {
     "name": "stdout",
     "output_type": "stream",
     "text": [
      "Region 0 is the most profitable and has an acceptable risk of loss.\n"
     ]
    }
   ],
   "source": [
    "# Comparar y determinar la región más adecuada para el desarrollo\n",
    "if (mean_profit_df_0 > mean_profit_df_1 and mean_profit_df_0 != mean_profit_df_1) and (mean_profit_df_0 > mean_profit_df_2 and mean_profit_df_0 != mean_profit_df_2) and risk_df_0 < 2.5:\n",
    "    print(\"Region 0 is the most profitable and has an acceptable risk of loss.\")\n",
    "elif (mean_profit_df_1 > mean_profit_df_0 and mean_profit_df_1 != mean_profit_df_0) and (mean_profit_df_1 > mean_profit_df_2 and mean_profit_df_1 != mean_profit_df_2) and risk_df_1 < 2.5:\n",
    "    print(\"Region 1 is the most profitable and has an acceptable risk of loss.\")\n",
    "elif (mean_profit_df_2 > mean_profit_df_0 and mean_profit_df_2 != mean_profit_df_0) and (mean_profit_df_2 > mean_profit_df_1 and mean_profit_df_2 != mean_profit_df_1) and risk_df_2 < 2.5:\n",
    "    print(\"Region 2 is the most profitable and has an acceptable risk of loss.\")\n",
    "elif (mean_profit_df_0 == mean_profit_df_1 and mean_profit_df_0 > mean_profit_df_2) and risk_df_0 < 2.5:\n",
    "    print(\"Region 0 and Region 1 have the greatest potential benefit and are recommended for well development.\")\n",
    "elif (mean_profit_df_0 == mean_profit_df_2 and mean_profit_df_0 > mean_profit_df_1) and risk_df_0 < 2.5:\n",
    "    print(\"Region 0 and Region 2 have the greatest potential benefit and are recommended for well development.\")\n",
    "elif (mean_profit_df_1 == mean_profit_df_2 and mean_profit_df_1 > mean_profit_df_0) and risk_df_1 < 2.5:\n",
    "    print(\"Region 1 and Region 2 have the greatest potential benefit and are recommended for well development.\")\n",
    "else:\n",
    "    print(\"No region fits the risk and gain criteria..\")"
   ]
  },
  {
   "cell_type": "markdown",
   "metadata": {},
   "source": [
    "**Coclusions**\n",
    "\n",
    "1. The final result is adjusted with the results obtained in point 4.2.\n",
    "2. In conclusion we can say that there is a region in which it is advisable to invest: region 0, this offers the best benefits. This region is recommended to invest in the 200 wells. Another option that can be reviewed is to choose the 100 wells in region 0 and the best 100 in region 2 and if it is more profitable, be able to make that investment in order to diversify.\n",
    "3. According to the analysis, better results were obtained with standardized training data."
   ]
  }
 ],
 "metadata": {
  "ExecuteTimeLog": [
   {
    "duration": 2552,
    "start_time": "2024-09-18T06:36:25.197Z"
   },
   {
    "duration": 350,
    "start_time": "2024-09-18T06:36:28.558Z"
   },
   {
    "duration": 39,
    "start_time": "2024-09-18T06:37:55.796Z"
   },
   {
    "duration": 35,
    "start_time": "2024-09-18T06:38:50.213Z"
   },
   {
    "duration": 35,
    "start_time": "2024-09-18T06:38:50.837Z"
   },
   {
    "duration": 24,
    "start_time": "2024-09-18T06:40:52.108Z"
   },
   {
    "duration": 40,
    "start_time": "2024-09-18T06:42:01.581Z"
   },
   {
    "duration": 20,
    "start_time": "2024-09-18T06:42:27.254Z"
   },
   {
    "duration": 42,
    "start_time": "2024-09-18T06:42:33.532Z"
   },
   {
    "duration": 41,
    "start_time": "2024-09-18T06:42:45.538Z"
   },
   {
    "duration": 224,
    "start_time": "2024-09-18T06:45:15.023Z"
   },
   {
    "duration": 87,
    "start_time": "2024-09-18T06:45:51.458Z"
   },
   {
    "duration": 8,
    "start_time": "2024-09-19T04:19:32.047Z"
   },
   {
    "duration": 7,
    "start_time": "2024-09-19T04:19:32.904Z"
   },
   {
    "duration": 223,
    "start_time": "2024-09-19T04:20:03.287Z"
   },
   {
    "duration": 1041,
    "start_time": "2024-09-19T04:20:33.546Z"
   },
   {
    "duration": 347,
    "start_time": "2024-09-19T04:20:35.512Z"
   },
   {
    "duration": 47,
    "start_time": "2024-09-19T04:20:35.862Z"
   },
   {
    "duration": 43,
    "start_time": "2024-09-19T04:20:36.127Z"
   },
   {
    "duration": 42,
    "start_time": "2024-09-19T04:20:36.455Z"
   },
   {
    "duration": 89,
    "start_time": "2024-09-19T04:20:37.876Z"
   },
   {
    "duration": 5,
    "start_time": "2024-09-19T04:20:39.358Z"
   },
   {
    "duration": 108,
    "start_time": "2024-09-19T04:20:39.765Z"
   },
   {
    "duration": 4,
    "start_time": "2024-09-19T04:21:24.456Z"
   },
   {
    "duration": 82,
    "start_time": "2024-09-19T04:21:24.847Z"
   },
   {
    "duration": 40,
    "start_time": "2024-09-19T04:26:27.719Z"
   },
   {
    "duration": 4,
    "start_time": "2024-09-19T04:32:13.090Z"
   },
   {
    "duration": 126,
    "start_time": "2024-09-19T04:32:14.556Z"
   },
   {
    "duration": 5,
    "start_time": "2024-09-19T04:57:34.845Z"
   },
   {
    "duration": 30,
    "start_time": "2024-09-19T04:57:35.797Z"
   },
   {
    "duration": 5,
    "start_time": "2024-09-19T05:41:08.145Z"
   },
   {
    "duration": 189,
    "start_time": "2024-09-19T05:41:08.794Z"
   },
   {
    "duration": 5,
    "start_time": "2024-09-19T05:45:44.079Z"
   },
   {
    "duration": 78,
    "start_time": "2024-09-19T05:45:44.435Z"
   },
   {
    "duration": 5,
    "start_time": "2024-09-19T05:50:28.565Z"
   },
   {
    "duration": 29,
    "start_time": "2024-09-19T05:50:28.877Z"
   },
   {
    "duration": 4,
    "start_time": "2024-09-19T05:52:17.721Z"
   },
   {
    "duration": 130,
    "start_time": "2024-09-19T05:52:18.220Z"
   },
   {
    "duration": 4,
    "start_time": "2024-09-19T05:53:18.422Z"
   },
   {
    "duration": 28,
    "start_time": "2024-09-19T05:53:18.730Z"
   },
   {
    "duration": 5,
    "start_time": "2024-09-19T05:53:48.787Z"
   },
   {
    "duration": 50,
    "start_time": "2024-09-19T05:53:49.297Z"
   },
   {
    "duration": 4,
    "start_time": "2024-09-19T05:54:09.018Z"
   },
   {
    "duration": 4,
    "start_time": "2024-09-19T05:54:10.378Z"
   },
   {
    "duration": 52,
    "start_time": "2024-09-19T05:54:10.865Z"
   },
   {
    "duration": 5,
    "start_time": "2024-09-19T05:55:10.853Z"
   },
   {
    "duration": 57,
    "start_time": "2024-09-19T05:55:11.120Z"
   },
   {
    "duration": 5,
    "start_time": "2024-09-19T05:55:42.765Z"
   },
   {
    "duration": 54,
    "start_time": "2024-09-19T05:55:42.865Z"
   },
   {
    "duration": 5,
    "start_time": "2024-09-19T05:55:58.945Z"
   },
   {
    "duration": 52,
    "start_time": "2024-09-19T05:55:59.223Z"
   },
   {
    "duration": 4,
    "start_time": "2024-09-19T05:56:59.097Z"
   },
   {
    "duration": 49,
    "start_time": "2024-09-19T05:56:59.381Z"
   },
   {
    "duration": 4,
    "start_time": "2024-09-19T05:57:48.307Z"
   },
   {
    "duration": 48,
    "start_time": "2024-09-19T05:57:48.579Z"
   },
   {
    "duration": 4,
    "start_time": "2024-09-19T06:03:29.396Z"
   },
   {
    "duration": 29,
    "start_time": "2024-09-19T06:03:29.813Z"
   },
   {
    "duration": 5,
    "start_time": "2024-09-19T06:07:00.486Z"
   },
   {
    "duration": 26,
    "start_time": "2024-09-19T06:07:00.817Z"
   },
   {
    "duration": 4,
    "start_time": "2024-09-19T06:07:12.836Z"
   },
   {
    "duration": 230,
    "start_time": "2024-09-19T06:07:13.218Z"
   },
   {
    "duration": 44,
    "start_time": "2024-09-19T06:07:13.450Z"
   },
   {
    "duration": 43,
    "start_time": "2024-09-19T06:07:13.564Z"
   },
   {
    "duration": 47,
    "start_time": "2024-09-19T06:07:13.729Z"
   },
   {
    "duration": 89,
    "start_time": "2024-09-19T06:07:14.511Z"
   },
   {
    "duration": 5,
    "start_time": "2024-09-19T06:07:16.164Z"
   },
   {
    "duration": 24,
    "start_time": "2024-09-19T06:07:17.477Z"
   },
   {
    "duration": 5,
    "start_time": "2024-09-19T06:07:30.897Z"
   },
   {
    "duration": 69,
    "start_time": "2024-09-19T06:07:31.209Z"
   },
   {
    "duration": 5,
    "start_time": "2024-09-19T06:12:24.343Z"
   },
   {
    "duration": 92,
    "start_time": "2024-09-19T06:12:24.557Z"
   },
   {
    "duration": 5,
    "start_time": "2024-09-19T06:14:26.427Z"
   },
   {
    "duration": 280,
    "start_time": "2024-09-19T06:14:26.732Z"
   },
   {
    "duration": 4,
    "start_time": "2024-09-19T06:19:13.312Z"
   },
   {
    "duration": 123,
    "start_time": "2024-09-19T06:19:13.689Z"
   },
   {
    "duration": 3,
    "start_time": "2024-09-19T06:19:42.879Z"
   },
   {
    "duration": 227,
    "start_time": "2024-09-19T06:19:43.343Z"
   },
   {
    "duration": 50,
    "start_time": "2024-09-19T06:19:43.572Z"
   },
   {
    "duration": 42,
    "start_time": "2024-09-19T06:19:43.716Z"
   },
   {
    "duration": 40,
    "start_time": "2024-09-19T06:19:43.890Z"
   },
   {
    "duration": 88,
    "start_time": "2024-09-19T06:19:44.857Z"
   },
   {
    "duration": 4,
    "start_time": "2024-09-19T06:19:46.118Z"
   },
   {
    "duration": 24,
    "start_time": "2024-09-19T06:19:46.585Z"
   },
   {
    "duration": 5,
    "start_time": "2024-09-19T06:21:36.384Z"
   },
   {
    "duration": 44,
    "start_time": "2024-09-19T06:21:37.162Z"
   },
   {
    "duration": 4,
    "start_time": "2024-09-19T06:21:52.830Z"
   },
   {
    "duration": 17,
    "start_time": "2024-09-19T06:21:53.044Z"
   },
   {
    "duration": 5,
    "start_time": "2024-09-19T06:23:00.502Z"
   },
   {
    "duration": 21,
    "start_time": "2024-09-19T06:23:00.962Z"
   },
   {
    "duration": 4,
    "start_time": "2024-09-19T06:23:14.266Z"
   },
   {
    "duration": 16,
    "start_time": "2024-09-19T06:23:14.673Z"
   },
   {
    "duration": 4,
    "start_time": "2024-09-19T06:23:44.363Z"
   },
   {
    "duration": 22,
    "start_time": "2024-09-19T06:23:44.801Z"
   },
   {
    "duration": 4,
    "start_time": "2024-09-19T06:25:19.732Z"
   },
   {
    "duration": 5,
    "start_time": "2024-09-19T06:25:21.029Z"
   },
   {
    "duration": 20,
    "start_time": "2024-09-19T06:25:21.337Z"
   },
   {
    "duration": 5,
    "start_time": "2024-09-19T06:30:28.322Z"
   },
   {
    "duration": 16,
    "start_time": "2024-09-19T06:30:28.933Z"
   },
   {
    "duration": 5,
    "start_time": "2024-09-19T06:30:48.513Z"
   },
   {
    "duration": 23,
    "start_time": "2024-09-19T06:30:49.411Z"
   },
   {
    "duration": 5,
    "start_time": "2024-09-19T06:32:34.008Z"
   },
   {
    "duration": 18,
    "start_time": "2024-09-19T06:32:34.638Z"
   },
   {
    "duration": 5,
    "start_time": "2024-09-19T06:32:44.003Z"
   },
   {
    "duration": 17,
    "start_time": "2024-09-19T06:32:44.317Z"
   },
   {
    "duration": 16,
    "start_time": "2024-09-19T06:33:16.906Z"
   },
   {
    "duration": 19,
    "start_time": "2024-09-19T06:33:57.251Z"
   },
   {
    "duration": 23,
    "start_time": "2024-09-19T06:35:31.714Z"
   },
   {
    "duration": 20,
    "start_time": "2024-09-19T06:35:32.342Z"
   },
   {
    "duration": 15,
    "start_time": "2024-09-19T06:35:32.823Z"
   },
   {
    "duration": 2,
    "start_time": "2024-09-19T06:38:32.713Z"
   },
   {
    "duration": 4,
    "start_time": "2024-09-19T06:46:39.922Z"
   },
   {
    "duration": 2561,
    "start_time": "2024-09-19T21:24:55.102Z"
   },
   {
    "duration": 336,
    "start_time": "2024-09-19T21:24:58.787Z"
   },
   {
    "duration": 43,
    "start_time": "2024-09-19T21:24:59.125Z"
   },
   {
    "duration": 39,
    "start_time": "2024-09-19T21:24:59.486Z"
   },
   {
    "duration": 38,
    "start_time": "2024-09-19T21:24:59.533Z"
   },
   {
    "duration": 86,
    "start_time": "2024-09-19T21:24:59.653Z"
   },
   {
    "duration": 4,
    "start_time": "2024-09-19T21:25:00.999Z"
   },
   {
    "duration": 19,
    "start_time": "2024-09-19T21:25:01.301Z"
   },
   {
    "duration": 19,
    "start_time": "2024-09-19T21:25:01.580Z"
   },
   {
    "duration": 17,
    "start_time": "2024-09-19T21:25:01.853Z"
   },
   {
    "duration": 3,
    "start_time": "2024-09-19T21:25:03.106Z"
   },
   {
    "duration": 5,
    "start_time": "2024-09-19T21:25:04.579Z"
   },
   {
    "duration": 3,
    "start_time": "2024-09-19T21:25:17.607Z"
   },
   {
    "duration": 4,
    "start_time": "2024-09-19T21:25:18.570Z"
   },
   {
    "duration": 11,
    "start_time": "2024-09-19T21:25:37.015Z"
   },
   {
    "duration": 12,
    "start_time": "2024-09-19T21:26:28.178Z"
   },
   {
    "duration": 177,
    "start_time": "2024-09-20T19:09:13.587Z"
   },
   {
    "duration": 2698,
    "start_time": "2024-09-20T19:10:09.122Z"
   },
   {
    "duration": 363,
    "start_time": "2024-09-20T19:10:11.823Z"
   },
   {
    "duration": 46,
    "start_time": "2024-09-20T19:10:12.188Z"
   },
   {
    "duration": 42,
    "start_time": "2024-09-20T19:10:12.237Z"
   },
   {
    "duration": 63,
    "start_time": "2024-09-20T19:10:12.282Z"
   },
   {
    "duration": 106,
    "start_time": "2024-09-20T19:10:12.347Z"
   },
   {
    "duration": 5,
    "start_time": "2024-09-20T19:10:12.455Z"
   },
   {
    "duration": 50,
    "start_time": "2024-09-20T19:10:12.461Z"
   },
   {
    "duration": 100,
    "start_time": "2024-09-20T19:10:12.513Z"
   },
   {
    "duration": 102,
    "start_time": "2024-09-20T19:10:12.616Z"
   },
   {
    "duration": 6,
    "start_time": "2024-09-20T19:10:12.723Z"
   },
   {
    "duration": 76,
    "start_time": "2024-09-20T19:10:12.734Z"
   },
   {
    "duration": 13,
    "start_time": "2024-09-20T19:10:12.812Z"
   },
   {
    "duration": 130,
    "start_time": "2024-09-20T19:10:12.828Z"
   },
   {
    "duration": 103,
    "start_time": "2024-09-20T19:11:17.924Z"
   },
   {
    "duration": 979,
    "start_time": "2024-09-20T19:14:12.580Z"
   },
   {
    "duration": 170,
    "start_time": "2024-09-23T04:51:07.155Z"
   },
   {
    "duration": 2630,
    "start_time": "2024-09-23T04:51:25.102Z"
   },
   {
    "duration": 343,
    "start_time": "2024-09-23T04:51:27.734Z"
   },
   {
    "duration": 46,
    "start_time": "2024-09-23T04:51:28.079Z"
   },
   {
    "duration": 51,
    "start_time": "2024-09-23T04:51:28.127Z"
   },
   {
    "duration": 41,
    "start_time": "2024-09-23T04:51:28.180Z"
   },
   {
    "duration": 88,
    "start_time": "2024-09-23T04:51:28.318Z"
   },
   {
    "duration": 4,
    "start_time": "2024-09-23T04:51:29.628Z"
   },
   {
    "duration": 20,
    "start_time": "2024-09-23T04:51:30.660Z"
   },
   {
    "duration": 21,
    "start_time": "2024-09-23T04:51:31.276Z"
   },
   {
    "duration": 17,
    "start_time": "2024-09-23T04:51:31.868Z"
   },
   {
    "duration": 3,
    "start_time": "2024-09-23T04:51:33.492Z"
   },
   {
    "duration": 4,
    "start_time": "2024-09-23T04:51:39.307Z"
   },
   {
    "duration": 12,
    "start_time": "2024-09-23T04:51:40.829Z"
   },
   {
    "duration": 1105,
    "start_time": "2024-09-23T04:52:02.276Z"
   },
   {
    "duration": 521,
    "start_time": "2024-09-23T04:55:35.623Z"
   },
   {
    "duration": 657,
    "start_time": "2024-09-23T04:57:47.332Z"
   },
   {
    "duration": 2868,
    "start_time": "2024-09-23T05:22:40.904Z"
   },
   {
    "duration": 247,
    "start_time": "2024-09-23T17:55:45.014Z"
   },
   {
    "duration": 3421,
    "start_time": "2024-09-23T17:56:18.595Z"
   },
   {
    "duration": 419,
    "start_time": "2024-09-23T17:56:22.018Z"
   },
   {
    "duration": 53,
    "start_time": "2024-09-23T17:56:22.439Z"
   },
   {
    "duration": 50,
    "start_time": "2024-09-23T17:56:22.494Z"
   },
   {
    "duration": 56,
    "start_time": "2024-09-23T17:56:22.545Z"
   },
   {
    "duration": 125,
    "start_time": "2024-09-23T17:56:22.608Z"
   },
   {
    "duration": 6,
    "start_time": "2024-09-23T17:56:22.738Z"
   },
   {
    "duration": 46,
    "start_time": "2024-09-23T17:56:22.746Z"
   },
   {
    "duration": 98,
    "start_time": "2024-09-23T17:56:22.794Z"
   },
   {
    "duration": 46,
    "start_time": "2024-09-23T17:56:22.895Z"
   },
   {
    "duration": 3,
    "start_time": "2024-09-23T17:56:22.987Z"
   },
   {
    "duration": 3,
    "start_time": "2024-09-23T17:56:23.640Z"
   },
   {
    "duration": 20,
    "start_time": "2024-09-23T17:56:24.217Z"
   },
   {
    "duration": 3343,
    "start_time": "2024-09-23T17:56:25.751Z"
   },
   {
    "duration": 3559,
    "start_time": "2024-09-23T17:57:11.674Z"
   },
   {
    "duration": 2936,
    "start_time": "2024-09-23T18:00:36.660Z"
   },
   {
    "duration": 2900,
    "start_time": "2024-09-23T18:00:56.779Z"
   },
   {
    "duration": 3068,
    "start_time": "2024-09-23T18:01:13.920Z"
   },
   {
    "duration": 2818,
    "start_time": "2024-09-23T18:01:47.622Z"
   },
   {
    "duration": 3352,
    "start_time": "2024-09-23T18:38:18.824Z"
   },
   {
    "duration": 985,
    "start_time": "2024-09-23T18:40:24.412Z"
   },
   {
    "duration": 43,
    "start_time": "2024-09-23T18:42:37.760Z"
   },
   {
    "duration": 32,
    "start_time": "2024-09-23T18:43:07.722Z"
   },
   {
    "duration": 47,
    "start_time": "2024-09-23T18:43:31.321Z"
   },
   {
    "duration": 515,
    "start_time": "2024-09-23T18:43:44.634Z"
   },
   {
    "duration": 3,
    "start_time": "2024-09-23T18:46:59.661Z"
   },
   {
    "duration": 194,
    "start_time": "2024-09-23T18:47:00.199Z"
   },
   {
    "duration": 56,
    "start_time": "2024-09-23T18:47:00.396Z"
   },
   {
    "duration": 57,
    "start_time": "2024-09-23T18:47:00.454Z"
   },
   {
    "duration": 55,
    "start_time": "2024-09-23T18:47:00.514Z"
   },
   {
    "duration": 119,
    "start_time": "2024-09-23T18:47:00.571Z"
   },
   {
    "duration": 6,
    "start_time": "2024-09-23T18:47:00.692Z"
   },
   {
    "duration": 31,
    "start_time": "2024-09-23T18:47:00.700Z"
   },
   {
    "duration": 83,
    "start_time": "2024-09-23T18:47:00.732Z"
   },
   {
    "duration": 169,
    "start_time": "2024-09-23T18:47:00.817Z"
   },
   {
    "duration": 5,
    "start_time": "2024-09-23T18:47:00.989Z"
   },
   {
    "duration": 5,
    "start_time": "2024-09-23T18:47:01.632Z"
   },
   {
    "duration": 14,
    "start_time": "2024-09-23T18:47:02.250Z"
   },
   {
    "duration": 14,
    "start_time": "2024-09-23T18:47:12.481Z"
   },
   {
    "duration": 25,
    "start_time": "2024-09-23T18:51:43.387Z"
   },
   {
    "duration": 151,
    "start_time": "2024-09-23T18:52:05.509Z"
   },
   {
    "duration": 181,
    "start_time": "2024-09-23T18:52:29.417Z"
   },
   {
    "duration": 32,
    "start_time": "2024-09-23T18:56:46.011Z"
   },
   {
    "duration": 254,
    "start_time": "2024-09-23T18:57:09.237Z"
   },
   {
    "duration": 254,
    "start_time": "2024-09-23T18:57:45.437Z"
   },
   {
    "duration": 334,
    "start_time": "2024-09-23T18:58:07.777Z"
   },
   {
    "duration": 384,
    "start_time": "2024-09-23T19:01:11.602Z"
   },
   {
    "duration": 2657,
    "start_time": "2024-09-24T19:18:58.854Z"
   },
   {
    "duration": 290,
    "start_time": "2024-09-24T19:19:01.513Z"
   },
   {
    "duration": 44,
    "start_time": "2024-09-24T19:19:01.805Z"
   },
   {
    "duration": 39,
    "start_time": "2024-09-24T19:19:01.851Z"
   },
   {
    "duration": 52,
    "start_time": "2024-09-24T19:19:01.891Z"
   },
   {
    "duration": 94,
    "start_time": "2024-09-24T19:19:01.945Z"
   },
   {
    "duration": 4,
    "start_time": "2024-09-24T19:19:02.041Z"
   },
   {
    "duration": 19,
    "start_time": "2024-09-24T19:19:02.047Z"
   },
   {
    "duration": 71,
    "start_time": "2024-09-24T19:19:02.068Z"
   },
   {
    "duration": 96,
    "start_time": "2024-09-24T19:19:02.143Z"
   },
   {
    "duration": 83,
    "start_time": "2024-09-24T19:19:02.244Z"
   },
   {
    "duration": 4,
    "start_time": "2024-09-24T19:19:02.332Z"
   },
   {
    "duration": 11,
    "start_time": "2024-09-24T19:19:02.338Z"
   },
   {
    "duration": 430,
    "start_time": "2024-09-24T19:19:02.351Z"
   },
   {
    "duration": 247,
    "start_time": "2024-09-24T19:19:02.782Z"
   },
   {
    "duration": 16,
    "start_time": "2024-09-24T19:19:26.170Z"
   },
   {
    "duration": 4,
    "start_time": "2024-09-24T19:20:12.273Z"
   },
   {
    "duration": 2615,
    "start_time": "2024-09-25T18:13:55.842Z"
   },
   {
    "duration": 349,
    "start_time": "2024-09-25T18:13:58.459Z"
   },
   {
    "duration": 47,
    "start_time": "2024-09-25T18:13:58.810Z"
   },
   {
    "duration": 40,
    "start_time": "2024-09-25T18:13:58.860Z"
   },
   {
    "duration": 59,
    "start_time": "2024-09-25T18:13:58.902Z"
   },
   {
    "duration": 99,
    "start_time": "2024-09-25T18:13:58.963Z"
   },
   {
    "duration": 4,
    "start_time": "2024-09-25T18:13:59.064Z"
   },
   {
    "duration": 19,
    "start_time": "2024-09-25T18:13:59.070Z"
   },
   {
    "duration": 71,
    "start_time": "2024-09-25T18:13:59.093Z"
   },
   {
    "duration": 27,
    "start_time": "2024-09-25T18:13:59.243Z"
   },
   {
    "duration": 4,
    "start_time": "2024-09-25T18:14:00.307Z"
   },
   {
    "duration": 4,
    "start_time": "2024-09-25T18:14:59.541Z"
   },
   {
    "duration": 3,
    "start_time": "2024-09-25T18:15:16.440Z"
   },
   {
    "duration": 5,
    "start_time": "2024-09-25T18:15:48.927Z"
   },
   {
    "duration": 3,
    "start_time": "2024-09-25T18:20:43.083Z"
   },
   {
    "duration": 12,
    "start_time": "2024-09-25T18:20:45.263Z"
   },
   {
    "duration": 2,
    "start_time": "2024-09-25T18:39:44.220Z"
   },
   {
    "duration": 3,
    "start_time": "2024-09-25T18:46:05.915Z"
   },
   {
    "duration": 12,
    "start_time": "2024-09-25T18:46:10.270Z"
   },
   {
    "duration": 4,
    "start_time": "2024-09-25T18:48:35.775Z"
   },
   {
    "duration": 14,
    "start_time": "2024-09-25T18:48:38.657Z"
   },
   {
    "duration": 3,
    "start_time": "2024-09-25T18:48:46.148Z"
   },
   {
    "duration": 3,
    "start_time": "2024-09-25T18:48:46.766Z"
   },
   {
    "duration": 12,
    "start_time": "2024-09-25T18:48:47.073Z"
   },
   {
    "duration": 14,
    "start_time": "2024-09-25T19:00:25.816Z"
   },
   {
    "duration": 9,
    "start_time": "2024-09-25T19:19:37.293Z"
   },
   {
    "duration": 14,
    "start_time": "2024-09-25T19:19:45.928Z"
   },
   {
    "duration": 308,
    "start_time": "2024-09-25T19:25:17.568Z"
   },
   {
    "duration": 364,
    "start_time": "2024-09-25T19:25:22.570Z"
   },
   {
    "duration": 352,
    "start_time": "2024-09-25T19:25:25.183Z"
   },
   {
    "duration": 4,
    "start_time": "2024-09-25T19:25:25.668Z"
   },
   {
    "duration": 4,
    "start_time": "2024-09-25T19:26:22.436Z"
   },
   {
    "duration": 4,
    "start_time": "2024-09-25T19:30:52.397Z"
   },
   {
    "duration": 4,
    "start_time": "2024-09-25T19:53:04.621Z"
   },
   {
    "duration": 230,
    "start_time": "2024-09-25T19:53:05.159Z"
   },
   {
    "duration": 40,
    "start_time": "2024-09-25T19:53:05.391Z"
   },
   {
    "duration": 48,
    "start_time": "2024-09-25T19:53:05.433Z"
   },
   {
    "duration": 38,
    "start_time": "2024-09-25T19:53:05.483Z"
   },
   {
    "duration": 98,
    "start_time": "2024-09-25T19:53:05.522Z"
   },
   {
    "duration": 4,
    "start_time": "2024-09-25T19:53:05.623Z"
   },
   {
    "duration": 20,
    "start_time": "2024-09-25T19:53:05.896Z"
   },
   {
    "duration": 18,
    "start_time": "2024-09-25T19:53:06.153Z"
   },
   {
    "duration": 20,
    "start_time": "2024-09-25T19:53:06.577Z"
   },
   {
    "duration": 3,
    "start_time": "2024-09-25T19:53:07.545Z"
   },
   {
    "duration": 5,
    "start_time": "2024-09-25T19:53:07.920Z"
   },
   {
    "duration": 5,
    "start_time": "2024-09-25T19:53:08.997Z"
   },
   {
    "duration": 15,
    "start_time": "2024-09-25T19:53:09.405Z"
   },
   {
    "duration": 364,
    "start_time": "2024-09-25T19:53:10.515Z"
   },
   {
    "duration": 4,
    "start_time": "2024-09-25T19:53:10.925Z"
   },
   {
    "duration": 3,
    "start_time": "2024-09-25T19:53:11.303Z"
   },
   {
    "duration": 6,
    "start_time": "2024-09-25T20:22:45.028Z"
   },
   {
    "duration": 6,
    "start_time": "2024-09-26T14:16:46.248Z"
   },
   {
    "duration": 157,
    "start_time": "2024-09-26T14:16:46.921Z"
   },
   {
    "duration": 1033,
    "start_time": "2024-09-26T14:17:04.634Z"
   },
   {
    "duration": 225,
    "start_time": "2024-09-26T14:17:05.669Z"
   },
   {
    "duration": 48,
    "start_time": "2024-09-26T14:17:05.896Z"
   },
   {
    "duration": 39,
    "start_time": "2024-09-26T14:17:05.946Z"
   },
   {
    "duration": 55,
    "start_time": "2024-09-26T14:17:05.986Z"
   },
   {
    "duration": 86,
    "start_time": "2024-09-26T14:17:06.477Z"
   },
   {
    "duration": 4,
    "start_time": "2024-09-26T14:17:07.540Z"
   },
   {
    "duration": 23,
    "start_time": "2024-09-26T14:17:07.792Z"
   },
   {
    "duration": 23,
    "start_time": "2024-09-26T14:17:08.899Z"
   },
   {
    "duration": 21,
    "start_time": "2024-09-26T14:17:09.103Z"
   },
   {
    "duration": 3,
    "start_time": "2024-09-26T14:17:09.871Z"
   },
   {
    "duration": 7,
    "start_time": "2024-09-26T14:17:10.402Z"
   },
   {
    "duration": 4,
    "start_time": "2024-09-26T14:17:11.807Z"
   },
   {
    "duration": 81,
    "start_time": "2024-09-26T14:17:12.480Z"
   },
   {
    "duration": 3,
    "start_time": "2024-09-26T14:17:50.886Z"
   },
   {
    "duration": 13,
    "start_time": "2024-09-26T14:17:51.654Z"
   },
   {
    "duration": 4,
    "start_time": "2024-09-26T14:18:34.767Z"
   },
   {
    "duration": 278,
    "start_time": "2024-09-26T14:18:35.342Z"
   },
   {
    "duration": 4,
    "start_time": "2024-09-26T14:19:27.297Z"
   },
   {
    "duration": 86,
    "start_time": "2024-09-26T14:19:27.626Z"
   },
   {
    "duration": 5,
    "start_time": "2024-09-26T14:21:22.183Z"
   },
   {
    "duration": 68,
    "start_time": "2024-09-26T14:21:23.065Z"
   },
   {
    "duration": 2674,
    "start_time": "2024-09-27T18:42:35.560Z"
   },
   {
    "duration": 305,
    "start_time": "2024-09-27T18:42:38.236Z"
   },
   {
    "duration": 46,
    "start_time": "2024-09-27T18:42:38.542Z"
   },
   {
    "duration": 47,
    "start_time": "2024-09-27T18:42:38.590Z"
   },
   {
    "duration": 40,
    "start_time": "2024-09-27T18:42:38.639Z"
   },
   {
    "duration": 108,
    "start_time": "2024-09-27T18:42:38.680Z"
   },
   {
    "duration": 5,
    "start_time": "2024-09-27T18:42:38.790Z"
   },
   {
    "duration": 24,
    "start_time": "2024-09-27T18:42:38.808Z"
   },
   {
    "duration": 81,
    "start_time": "2024-09-27T18:42:38.834Z"
   },
   {
    "duration": 97,
    "start_time": "2024-09-27T18:42:38.918Z"
   },
   {
    "duration": 3,
    "start_time": "2024-09-27T18:42:39.017Z"
   },
   {
    "duration": 6,
    "start_time": "2024-09-27T18:42:39.022Z"
   },
   {
    "duration": 79,
    "start_time": "2024-09-27T18:42:39.031Z"
   },
   {
    "duration": 14,
    "start_time": "2024-09-27T18:42:39.112Z"
   },
   {
    "duration": 4,
    "start_time": "2024-09-27T18:42:39.128Z"
   },
   {
    "duration": 395,
    "start_time": "2024-09-27T18:42:39.134Z"
   },
   {
    "duration": 5,
    "start_time": "2024-09-27T18:42:39.531Z"
   },
   {
    "duration": 5,
    "start_time": "2024-09-27T19:50:20.081Z"
   },
   {
    "duration": 5,
    "start_time": "2024-09-27T19:51:21.345Z"
   },
   {
    "duration": 5,
    "start_time": "2024-09-27T19:51:45.272Z"
   },
   {
    "duration": 5,
    "start_time": "2024-09-27T20:27:37.633Z"
   },
   {
    "duration": 338,
    "start_time": "2024-09-27T20:27:41.985Z"
   },
   {
    "duration": 286,
    "start_time": "2024-09-27T20:31:43.597Z"
   },
   {
    "duration": 5,
    "start_time": "2024-09-27T20:31:49.366Z"
   },
   {
    "duration": 4,
    "start_time": "2024-09-27T20:31:54.694Z"
   },
   {
    "duration": 364,
    "start_time": "2024-09-27T20:31:55.343Z"
   },
   {
    "duration": 366,
    "start_time": "2024-09-27T20:32:39.759Z"
   },
   {
    "duration": 359,
    "start_time": "2024-09-27T20:32:52.501Z"
   },
   {
    "duration": 5,
    "start_time": "2024-09-27T20:32:53.088Z"
   },
   {
    "duration": 5,
    "start_time": "2024-09-27T20:40:27.117Z"
   },
   {
    "duration": 368,
    "start_time": "2024-09-27T20:40:27.573Z"
   },
   {
    "duration": 5,
    "start_time": "2024-09-27T20:40:28.614Z"
   },
   {
    "duration": 4,
    "start_time": "2024-09-27T23:16:07.401Z"
   },
   {
    "duration": 4,
    "start_time": "2024-09-27T23:24:24.021Z"
   },
   {
    "duration": 212,
    "start_time": "2024-09-27T23:24:24.093Z"
   },
   {
    "duration": 44,
    "start_time": "2024-09-27T23:24:24.308Z"
   },
   {
    "duration": 66,
    "start_time": "2024-09-27T23:24:24.354Z"
   },
   {
    "duration": 42,
    "start_time": "2024-09-27T23:24:24.422Z"
   },
   {
    "duration": 104,
    "start_time": "2024-09-27T23:24:24.466Z"
   },
   {
    "duration": 5,
    "start_time": "2024-09-27T23:24:25.253Z"
   },
   {
    "duration": 25,
    "start_time": "2024-09-27T23:24:25.312Z"
   },
   {
    "duration": 76,
    "start_time": "2024-09-27T23:24:25.344Z"
   },
   {
    "duration": 100,
    "start_time": "2024-09-27T23:24:25.422Z"
   },
   {
    "duration": 3,
    "start_time": "2024-09-27T23:24:26.966Z"
   },
   {
    "duration": 8,
    "start_time": "2024-09-27T23:24:27.207Z"
   },
   {
    "duration": 4,
    "start_time": "2024-09-27T23:24:27.742Z"
   },
   {
    "duration": 13,
    "start_time": "2024-09-27T23:24:27.918Z"
   },
   {
    "duration": 4,
    "start_time": "2024-09-27T23:24:29.844Z"
   },
   {
    "duration": 341,
    "start_time": "2024-09-27T23:24:30.614Z"
   },
   {
    "duration": 5,
    "start_time": "2024-09-27T23:24:31.544Z"
   },
   {
    "duration": 8,
    "start_time": "2024-09-27T23:31:30.436Z"
   },
   {
    "duration": 4,
    "start_time": "2024-09-27T23:31:50.257Z"
   },
   {
    "duration": 209,
    "start_time": "2024-09-27T23:31:50.606Z"
   },
   {
    "duration": 42,
    "start_time": "2024-09-27T23:31:51.118Z"
   },
   {
    "duration": 48,
    "start_time": "2024-09-27T23:31:51.161Z"
   },
   {
    "duration": 38,
    "start_time": "2024-09-27T23:31:51.211Z"
   },
   {
    "duration": 85,
    "start_time": "2024-09-27T23:31:51.315Z"
   },
   {
    "duration": 5,
    "start_time": "2024-09-27T23:31:52.212Z"
   },
   {
    "duration": 22,
    "start_time": "2024-09-27T23:31:52.615Z"
   },
   {
    "duration": 24,
    "start_time": "2024-09-27T23:31:52.793Z"
   },
   {
    "duration": 21,
    "start_time": "2024-09-27T23:31:52.982Z"
   },
   {
    "duration": 3,
    "start_time": "2024-09-27T23:31:53.763Z"
   },
   {
    "duration": 5,
    "start_time": "2024-09-27T23:31:53.978Z"
   },
   {
    "duration": 3,
    "start_time": "2024-09-27T23:31:54.537Z"
   },
   {
    "duration": 13,
    "start_time": "2024-09-27T23:31:54.719Z"
   },
   {
    "duration": 5,
    "start_time": "2024-09-27T23:31:56.641Z"
   },
   {
    "duration": 365,
    "start_time": "2024-09-27T23:31:57.130Z"
   },
   {
    "duration": 5,
    "start_time": "2024-09-27T23:31:57.578Z"
   },
   {
    "duration": 157,
    "start_time": "2024-10-17T04:26:53.204Z"
   },
   {
    "duration": 13,
    "start_time": "2024-10-17T04:26:53.683Z"
   },
   {
    "duration": 2584,
    "start_time": "2024-10-17T04:27:03.408Z"
   },
   {
    "duration": 303,
    "start_time": "2024-10-17T04:27:05.994Z"
   },
   {
    "duration": 45,
    "start_time": "2024-10-17T04:27:06.298Z"
   },
   {
    "duration": 40,
    "start_time": "2024-10-17T04:27:06.346Z"
   },
   {
    "duration": 59,
    "start_time": "2024-10-17T04:27:06.387Z"
   },
   {
    "duration": 96,
    "start_time": "2024-10-17T04:27:06.448Z"
   },
   {
    "duration": 5,
    "start_time": "2024-10-17T04:27:07.730Z"
   },
   {
    "duration": 22,
    "start_time": "2024-10-17T04:27:08.867Z"
   },
   {
    "duration": 22,
    "start_time": "2024-10-17T04:27:09.248Z"
   },
   {
    "duration": 21,
    "start_time": "2024-10-17T04:27:09.861Z"
   },
   {
    "duration": 20,
    "start_time": "2024-10-17T04:32:42.534Z"
   },
   {
    "duration": 3,
    "start_time": "2024-10-17T04:32:45.019Z"
   },
   {
    "duration": 5,
    "start_time": "2024-10-17T04:32:45.630Z"
   },
   {
    "duration": 3,
    "start_time": "2024-10-17T04:32:47.536Z"
   },
   {
    "duration": 16,
    "start_time": "2024-10-17T04:32:48.025Z"
   },
   {
    "duration": 5,
    "start_time": "2024-10-17T04:32:49.832Z"
   },
   {
    "duration": 335,
    "start_time": "2024-10-17T04:32:50.352Z"
   },
   {
    "duration": 5,
    "start_time": "2024-10-17T04:32:51.328Z"
   },
   {
    "duration": 3,
    "start_time": "2024-10-17T05:06:40.328Z"
   },
   {
    "duration": 216,
    "start_time": "2024-10-17T05:06:40.421Z"
   },
   {
    "duration": 38,
    "start_time": "2024-10-17T05:06:40.639Z"
   },
   {
    "duration": 55,
    "start_time": "2024-10-17T05:06:40.679Z"
   },
   {
    "duration": 48,
    "start_time": "2024-10-17T05:06:40.736Z"
   },
   {
    "duration": 96,
    "start_time": "2024-10-17T05:06:40.786Z"
   },
   {
    "duration": 4,
    "start_time": "2024-10-17T05:06:40.884Z"
   },
   {
    "duration": 23,
    "start_time": "2024-10-17T05:06:40.966Z"
   },
   {
    "duration": 37,
    "start_time": "2024-10-17T05:06:40.994Z"
   },
   {
    "duration": 93,
    "start_time": "2024-10-17T05:06:41.032Z"
   },
   {
    "duration": 3,
    "start_time": "2024-10-17T05:06:41.224Z"
   },
   {
    "duration": 6,
    "start_time": "2024-10-17T05:06:41.229Z"
   },
   {
    "duration": 3,
    "start_time": "2024-10-17T05:06:41.890Z"
   },
   {
    "duration": 13,
    "start_time": "2024-10-17T05:06:42.221Z"
   },
   {
    "duration": 5,
    "start_time": "2024-10-17T05:06:43.602Z"
   },
   {
    "duration": 320,
    "start_time": "2024-10-17T05:06:43.931Z"
   },
   {
    "duration": 5,
    "start_time": "2024-10-17T05:06:44.497Z"
   },
   {
    "duration": 2838,
    "start_time": "2024-10-18T03:13:49.524Z"
   },
   {
    "duration": 332,
    "start_time": "2024-10-18T03:13:52.365Z"
   },
   {
    "duration": 55,
    "start_time": "2024-10-18T03:13:52.699Z"
   },
   {
    "duration": 53,
    "start_time": "2024-10-18T03:13:52.756Z"
   },
   {
    "duration": 50,
    "start_time": "2024-10-18T03:13:52.811Z"
   },
   {
    "duration": 101,
    "start_time": "2024-10-18T03:13:52.863Z"
   },
   {
    "duration": 9,
    "start_time": "2024-10-18T03:13:52.966Z"
   },
   {
    "duration": 41,
    "start_time": "2024-10-18T03:13:52.977Z"
   },
   {
    "duration": 104,
    "start_time": "2024-10-18T03:13:53.020Z"
   },
   {
    "duration": 98,
    "start_time": "2024-10-18T03:13:53.127Z"
   },
   {
    "duration": 4,
    "start_time": "2024-10-18T03:13:53.227Z"
   },
   {
    "duration": 6,
    "start_time": "2024-10-18T03:13:53.234Z"
   },
   {
    "duration": 68,
    "start_time": "2024-10-18T03:13:53.242Z"
   },
   {
    "duration": 18,
    "start_time": "2024-10-18T03:13:53.314Z"
   },
   {
    "duration": 5,
    "start_time": "2024-10-18T03:13:53.334Z"
   },
   {
    "duration": 413,
    "start_time": "2024-10-18T03:13:53.341Z"
   },
   {
    "duration": 7,
    "start_time": "2024-10-18T03:13:53.756Z"
   }
  ],
  "kernelspec": {
   "display_name": "Python [conda env:base] *",
   "language": "python",
   "name": "conda-base-py"
  },
  "language_info": {
   "codemirror_mode": {
    "name": "ipython",
    "version": 3
   },
   "file_extension": ".py",
   "mimetype": "text/x-python",
   "name": "python",
   "nbconvert_exporter": "python",
   "pygments_lexer": "ipython3",
   "version": "3.12.7"
  },
  "toc": {
   "base_numbering": 1,
   "nav_menu": {},
   "number_sections": true,
   "sideBar": true,
   "skip_h1_title": true,
   "title_cell": "Table of Contents",
   "title_sidebar": "Contents",
   "toc_cell": false,
   "toc_position": {},
   "toc_section_display": true,
   "toc_window_display": true
  }
 },
 "nbformat": 4,
 "nbformat_minor": 4
}
